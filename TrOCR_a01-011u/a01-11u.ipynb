{
 "cells": [
  {
   "cell_type": "code",
   "execution_count": null,
   "id": "f3493555",
   "metadata": {
    "vscode": {
     "languageId": "plaintext"
    }
   },
   "outputs": [],
   "source": [
    "import re\n",
    "import torch\n",
    "from PIL import Image\n",
    "import fitz  # PyMuPDF\n",
    "import io\n",
    "from difflib import SequenceMatcher\n",
    "import docx\n",
    "import os\n",
    "import numpy as np\n",
    "from nltk.translate.bleu_score import sentence_bleu, SmoothingFunction\n",
    "from rouge_score import rouge_scorer\n",
    "import bert_score\n",
    "from transformers import TrOCRProcessor, VisionEncoderDecoderModel\n",
    "import warnings\n",
    "warnings.filterwarnings('ignore')"
   ]
  }
 ],
 "metadata": {
  "language_info": {
   "name": "python"
  }
 },
 "nbformat": 4,
 "nbformat_minor": 5
}
